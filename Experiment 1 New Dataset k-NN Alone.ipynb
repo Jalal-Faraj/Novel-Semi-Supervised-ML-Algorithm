{
 "cells": [
  {
   "cell_type": "markdown",
   "metadata": {},
   "source": [
    "## Experiment 1:\n",
    "Experiment 1: SVM using the 20 sampled data points without enhancements"
   ]
  },
  {
   "cell_type": "code",
   "execution_count": 1,
   "metadata": {},
   "outputs": [],
   "source": [
    "# All modules:\n",
    "import pandas as pd\n",
    "import numpy as np\n",
    "from sklearn.model_selection import train_test_split\n",
    "from sklearn import datasets\n",
    "from sklearn import svm\n",
    "from sklearn.model_selection import cross_val_score\n",
    "from sklearn.model_selection import KFold\n",
    "from numpy import mean\n",
    "from numpy import std\n",
    "from sklearn.datasets import make_classification\n",
    "from sklearn.metrics import confusion_matrix\n",
    "from sklearn import svm\n",
    "import seaborn as sns\n",
    "from sklearn.model_selection import cross_val_predict\n",
    "from sklearn.metrics import confusion_matrix\n",
    "import matplotlib.pyplot as plt\n",
    "from sklearn.metrics import classification_report\n",
    "from sklearn import preprocessing\n",
    "from sklearn.metrics import accuracy_score\n",
    "from scipy.spatial import distance\n",
    "import math\n",
    "import itertools\n",
    "import matplotlib.pyplot as plt\n",
    "from sklearn.model_selection import ShuffleSplit\n",
    "from sklearn.metrics import accuracy_score\n",
    "from sklearn import preprocessing\n",
    "from sklearn.cluster import DBSCAN\n",
    "from sklearn.neighbors import KNeighborsClassifier\n",
    "from sklearn_extra.cluster import KMedoids\n",
    "from sklearn.linear_model import LogisticRegression\n",
    "from sklearn.cluster import KMeans\n",
    "from sklearn.metrics import pairwise_distances_argmin_min\n",
    "from sklearn.cluster import AgglomerativeClustering\n",
    "import random"
   ]
  },
  {
   "cell_type": "markdown",
   "metadata": {},
   "source": [
    "## Functions:"
   ]
  },
  {
   "cell_type": "code",
   "execution_count": 2,
   "metadata": {},
   "outputs": [],
   "source": [
    "# Purpose of function is to classify only k nearest points to the training dataset:\n",
    "def knnclassify_nearestk2(dataset, training, labels, k, fault):\n",
    "    closest_k = []\n",
    "    # run through the training data points, and find k closest neighbors to each training point\n",
    "    for i in range(len(training)):\n",
    "        distances = []\n",
    "        for u in range(len(dataset)):\n",
    "            if u not in dataset:\n",
    "                # Measure distances of all points in the dataset from training[i]\n",
    "                # Distance metric is subject to change\n",
    "                distances.append(distance.euclidean(training.iloc[i,:],dataset.iloc[u,0:24]))\n",
    "            else:\n",
    "                continue\n",
    "        # Select the indices of the closest k data points to the training[i]\n",
    "        distances_ = sorted(range(len(distances)), key = lambda sub: distances[sub])[:k]\n",
    "        # Label the closest points with the same label as training[i]\n",
    "        dataset.loc[distances_,fault] = labels.iloc[i][0]\n",
    "        # Save indices of closest points\n",
    "        closest_k.append(distances_)\n",
    "    closest_k_p = list(itertools.chain.from_iterable(closest_k))\n",
    "    # Select new training dataset to include closest points to all training examples\n",
    "    return dataset.iloc[closest_k_p,:]"
   ]
  },
  {
   "cell_type": "code",
   "execution_count": 3,
   "metadata": {},
   "outputs": [],
   "source": [
    "# This function is for sampling evenly from each class (binary classes 0; No Fault and 1, Fault) for each fault:\n",
    "def sampling(new_df, fault, num_sam, corr_list):\n",
    "    # Try Sampling unevenly:\n",
    "#     sample = new_df.groupby(fault).apply(lambda x: x.sample(num_sam))\n",
    "    sample = new_df.sample(n = num_sam)\n",
    "    # Drop features\n",
    "    x_train = sample.drop(['No Fault', 'Evaporator Fault', 'Condenser Fault' ,'Undercharged B', 'Overcharged A'], axis = 1)\n",
    "    x_train = x_train.loc[:,corr_list]\n",
    "    # Select only Lavels\n",
    "    y_train = sample.loc[:,['No Fault', 'Evaporator Fault', 'Condenser Fault' ,'Undercharged B', 'Overcharged A']]\n",
    "    y_train = y_train.loc[:,~y_train.columns.duplicated()]\n",
    "    # Save indices of the sampled data points:\n",
    "#     inds = [r[1] for r in sample.index]\n",
    "    inds = sample.index.to_list()\n",
    "    return sample, x_train, y_train, inds"
   ]
  },
  {
   "cell_type": "code",
   "execution_count": 4,
   "metadata": {},
   "outputs": [],
   "source": [
    "# This function takes the dataframe, x_train, y_train, and the indices of the training data points so that\n",
    "# We can split the data into x_train, y_train, x_test, y_test, and use the SVM model for training an evaluation:\n",
    "def SVM_model(fault, new_df, x_train, y_train, inds, df_corr_list):\n",
    "    \n",
    "    x_test = df_corr_list.iloc[:,0:24]\n",
    "    y_test = new_df.loc[:,['No Fault', 'Evaporator Fault', 'Condenser Fault' ,'Undercharged B', 'Overcharged A']]\n",
    "\n",
    "    x_test = x_test.drop(inds, axis= 0)\n",
    "    y_test = y_test.drop(inds, axis= 0)\n",
    "\n",
    "    y_train = y_train.loc[:,fault]\n",
    "    y_test = y_test.loc[:,fault]\n",
    "\n",
    "    model = svm.SVC(kernel='linear', C = 1.22, class_weight = 'balanced')# Linear Kernel\n",
    "    # scaler = preprocessing.StandardScaler()\n",
    "    # max_abs_scaler = preprocessing.MaxAbsScaler()\n",
    "    quantile_transformer = preprocessing.QuantileTransformer(n_quantiles = x_train.shape[0], random_state=0)\n",
    "    # normalizer = preprocessing.Normalizer()\n",
    "    # pt = preprocessing.PowerTransformer('yeo-johnson', standardize=False)\n",
    "\n",
    "    x_train = quantile_transformer.fit_transform(x_train)\n",
    "    x_test = quantile_transformer.transform(x_test)\n",
    "    \n",
    "    model.fit(x_train, y_train)\n",
    "     # evaluate model and report performance\n",
    "    pred_svm = model.predict(x_test)\n",
    "    \n",
    "    acc = accuracy_score(y_test, pred_svm)\n",
    "    \n",
    "    return acc, x_train, y_train, x_test, y_test\n",
    "    "
   ]
  },
  {
   "cell_type": "code",
   "execution_count": 5,
   "metadata": {},
   "outputs": [],
   "source": [
    "# This function is for trying various number of neighbors when implemeneting Dr. Raj's k-NN labeling method:\n",
    "vals = [1,5,10,15,20]\n",
    "def plt_knn_alon(vals, new_df, x_train, y_train, sample, corr_list, fault, inds):\n",
    "    acc = []\n",
    "    train = []\n",
    "    for i in vals:\n",
    "        # Make a new training set by calling the function: knnclassify_nearestk2\n",
    "        new_training3 = knnclassify_nearestk2(new_df, x_train, y_train, i, fault)\n",
    "        # Join the sampled data set with the new training dataset we have.\n",
    "        new_training_2 = pd.concat([sample, new_training3], axis = 0)\n",
    "        # Remove repeated datapoints\n",
    "        new_train3 = list(set(new_training3.index)) + inds \n",
    "        # Extract dataset with only features\n",
    "        new_df_corr = new_df.loc[:,corr_list[0:24]]\n",
    "        # New x_train, and y_train by using the indices of all the training examples and selecting them\n",
    "        x_trainrj3 = new_df_corr.iloc[new_train3,:]\n",
    "        y_trainrj3 = new_df.loc[new_train3, fault]\n",
    "        # New x_test, and y_test by using the indices of all the training examples and droping them\n",
    "        x_testrj3 = new_df_corr.drop(new_df_corr.iloc[new_train3,:].index)\n",
    "        y_testrj3 = new_df.drop(new_df.loc[new_train3,fault].index)\n",
    "        # Select only the column containg the fault we are working with\n",
    "        y_testrj3 = y_testrj3.loc[:,fault]\n",
    "        # SVM model:\n",
    "        model = svm.SVC(kernel='poly', C = 1.22, degree = 5)# Linear Kernel\n",
    "        # scaler = preprocessing.StandardScaler()\n",
    "        # max_abs_scaler = preprocessing.MaxAbsScaler()\n",
    "        quantile_transformer = preprocessing.QuantileTransformer(n_quantiles = x_trainrj3.shape[0], random_state=0)\n",
    "        # # normalizer = preprocessing.Normalizer()\n",
    "        # # pt = preprocessing.PowerTransformer('yeo-johnson', standardize=False)\n",
    "        x_trainrj3 = quantile_transformer.fit_transform(x_trainrj3)\n",
    "        x_testrj3 = quantile_transformer.transform(x_testrj3)\n",
    "        \n",
    "        # evaluate model and report performance\n",
    "        model.fit(x_trainrj3, y_trainrj3)\n",
    "        pred_svmrj3 = model.predict(x_testrj3)\n",
    "        acc.append(accuracy_score(y_testrj3, pred_svmrj3))\n",
    "        train.append(len(new_training_2))\n",
    "        \n",
    "    plot1 = plt.plot(vals, acc,'bo')\n",
    "    plt.plot(vals, acc, 'r')\n",
    "    plt.xlabel('# of K')\n",
    "    plt.ylabel('Accuracy (%)')\n",
    "    plt.title('# of K vs. Accuracy (k-NN)')\n",
    "#         plot2 = plt.plot(train, acc,'ko')\n",
    "#         plt.plot(train, acc, 'g')\n",
    "#         plt.xlabel('Training set size')\n",
    "#         plt.ylabel('Accuracy (%)')\n",
    "#         plt.title('Training set size vs. Accuracy')\n",
    "    max_ind = acc.index(max(acc))\n",
    "    k_max = vals[max_ind]\n",
    "    print('The highest accuracy is:', max(acc), 'using k = ', k_max, 'neighbors for labeling.')\n",
    "    return plot1"
   ]
  },
  {
   "cell_type": "markdown",
   "metadata": {},
   "source": [
    "## Labeling:"
   ]
  },
  {
   "cell_type": "code",
   "execution_count": 6,
   "metadata": {},
   "outputs": [],
   "source": [
    "# Applying this function to all the rows, FAN, COMP.A and COMP.B\n",
    "# classifying system as working or not working --> 0 = not working, and 1 = working\n",
    "# This function is not used here:\n",
    "def labels(row):\n",
    "    if row['FAN'] > 0 and (row['COMP.A'] > 0 or row['COMP.B'] > 0):\n",
    "#         row['LABELS'] = 1\n",
    "        row['System Status'] = 1\n",
    "    elif row['FAN'] <= 0 and (row['COMP.A'] <= 0 or row['COMP.B'] <= 0):\n",
    "#         row['LABELS'] = 0\n",
    "        row['System Status'] = 0\n",
    "\n",
    "    if row['FI.REF.A'] < -0.2:\n",
    "        row['Underchargd A'] = 1\n",
    "        \n",
    "    # Overcharged A    \n",
    "    elif row['FI.REF.A'] > 0.2:\n",
    "        row['Overcharged A'] = 1\n",
    "        \n",
    "    # System Off\n",
    "    #elif row['COMP.A'] == 0 or row['COMP.B'] == 0 or row['System Status'] == 0:\n",
    "   #     row['System Status'] = 0\n",
    "        \n",
    "    # Undercharged B    \n",
    "    if row['FI.REF.B'] < -0.2:\n",
    "        row['Undercharged B'] = 1\n",
    "        \n",
    "    # Overcharged B   \n",
    "    elif row['FI.REF.B'] > 0.2:\n",
    "        row['Overcharged B'] = 1\n",
    "        \n",
    "    # For Condensor faults\n",
    "    if row['FI.COND'] < -0.4:\n",
    "        row['Condenser Fault'] = 1 # fault\n",
    "        \n",
    "    # For Evaporator faults  \n",
    "    if row['FI.EVAP'] < -0.4:\n",
    "        row['Evaporator Fault'] = 1\n",
    "        \n",
    "#     else:\n",
    "#         # No Fault\n",
    "#         row['No Fault'] = 1\n",
    "        \n",
    "    return row\n",
    "\n",
    "# df_class = df.apply(temp, axis=1)"
   ]
  },
  {
   "cell_type": "markdown",
   "metadata": {},
   "source": [
    "# Binary Classification:"
   ]
  },
  {
   "cell_type": "code",
   "execution_count": 7,
   "metadata": {},
   "outputs": [],
   "source": [
    "# Upload dataset containg features and labels\n",
    "# new_df = pd.read_csv('New Data without System Off (binary classification).csv').drop('Unnamed: 0', axis = 1)\n",
    "new_df = pd.read_csv('New Dataset with one-hot (New FIs).csv')\n",
    "# Upload feature list\n",
    "import pickle\n",
    "with open('column_names.pkl', 'rb') as f:\n",
    "    unpickler = pickle.Unpickler(f)\n",
    "    corr_list = unpickler.load()\n",
    "# Dataset with only the features:\n",
    "new_df_corr = new_df.loc[:,corr_list]"
   ]
  },
  {
   "cell_type": "code",
   "execution_count": 8,
   "metadata": {},
   "outputs": [
    {
     "data": {
      "text/plain": [
       "0.0    3163\n",
       "1.0     173\n",
       "Name: No Fault, dtype: int64"
      ]
     },
     "execution_count": 8,
     "metadata": {},
     "output_type": "execute_result"
    }
   ],
   "source": [
    "new_df.loc[:,'No Fault'].value_counts()"
   ]
  },
  {
   "cell_type": "markdown",
   "metadata": {},
   "source": [
    "# Evaporator Fault:"
   ]
  },
  {
   "cell_type": "code",
   "execution_count": 9,
   "metadata": {},
   "outputs": [],
   "source": [
    "sample_ef = sampling(new_df, 'Evaporator Fault', 30, corr_list)\n",
    "# Refer to function to see what it returns "
   ]
  },
  {
   "cell_type": "markdown",
   "metadata": {},
   "source": [
    "## SVM:"
   ]
  },
  {
   "cell_type": "code",
   "execution_count": 10,
   "metadata": {},
   "outputs": [
    {
     "data": {
      "text/plain": [
       "0.9748941318814277"
      ]
     },
     "execution_count": 10,
     "metadata": {},
     "output_type": "execute_result"
    }
   ],
   "source": [
    "acc_ef = SVM_model('Evaporator Fault', new_df, sample_ef[1], sample_ef[2], sample_ef[3], new_df_corr)\n",
    "acc_ef[0]"
   ]
  },
  {
   "cell_type": "markdown",
   "metadata": {},
   "source": [
    "## k-NN + SVM:"
   ]
  },
  {
   "cell_type": "code",
   "execution_count": 11,
   "metadata": {},
   "outputs": [
    {
     "name": "stdout",
     "output_type": "stream",
     "text": [
      "The highest accuracy is: 0.9674475205354427 using k =  20 neighbors for labeling.\n"
     ]
    },
    {
     "data": {
      "text/plain": [
       "[<matplotlib.lines.Line2D at 0x7f8c631484f0>]"
      ]
     },
     "execution_count": 11,
     "metadata": {},
     "output_type": "execute_result"
    },
    {
     "data": {
      "image/png": "[encoded data removed]",
      "text/plain": [
       "<Figure size 432x288 with 1 Axes>"
      ]
     },
     "metadata": {
      "needs_background": "light"
     },
     "output_type": "display_data"
    }
   ],
   "source": [
    "# def plt_knn_alon(vals, new_df, x_train, y_train, sample, corr_list, fault):\n",
    "x_train = pd.DataFrame(acc_ef[1])\n",
    "y_train = pd.DataFrame(acc_ef[2])\n",
    "# x_test = pd.DataFrame(acc_cf[3])\n",
    "# y_test = pd.DataFrame(acc_cf[4])\n",
    "plt_knn_alon(vals, new_df, x_train, y_train, sample_ef[0], corr_list, 'Evaporator Fault', sample_ef[3])\n",
    "# Refer to function to see what it returns "
   ]
  },
  {
   "cell_type": "markdown",
   "metadata": {},
   "source": [
    "# No Fault:"
   ]
  },
  {
   "cell_type": "code",
   "execution_count": 15,
   "metadata": {},
   "outputs": [],
   "source": [
    "sample_nf = sampling(new_df, 'No Fault', 30, corr_list)"
   ]
  },
  {
   "cell_type": "markdown",
   "metadata": {},
   "source": [
    "## SVM:"
   ]
  },
  {
   "cell_type": "code",
   "execution_count": 16,
   "metadata": {},
   "outputs": [
    {
     "data": {
      "text/plain": [
       "0.8064125831820932"
      ]
     },
     "execution_count": 16,
     "metadata": {},
     "output_type": "execute_result"
    }
   ],
   "source": [
    "acc_nf = SVM_model('No Fault', new_df, sample_nf[1], sample_nf[2], sample_nf[3], new_df_corr)\n",
    "acc_nf[0]"
   ]
  },
  {
   "cell_type": "markdown",
   "metadata": {},
   "source": [
    "## k-NN +SVM:"
   ]
  },
  {
   "cell_type": "code",
   "execution_count": 17,
   "metadata": {},
   "outputs": [
    {
     "name": "stdout",
     "output_type": "stream",
     "text": [
      "The highest accuracy is: 0.9176007270524084 using k =  5 neighbors for labeling.\n"
     ]
    },
    {
     "data": {
      "text/plain": [
       "[<matplotlib.lines.Line2D at 0x7f8c621909d0>]"
      ]
     },
     "execution_count": 17,
     "metadata": {},
     "output_type": "execute_result"
    },
    {
     "data": {
      "image/png": "[encoded data removed]",
      "text/plain": [
       "<Figure size 432x288 with 1 Axes>"
      ]
     },
     "metadata": {
      "needs_background": "light"
     },
     "output_type": "display_data"
    }
   ],
   "source": [
    "# def plt_knn_alon(vals, new_df, x_train, y_train, sample, corr_list, fault):\n",
    "x_train = pd.DataFrame(acc_nf[1])\n",
    "y_train = pd.DataFrame(acc_nf[2])\n",
    "# x_test = pd.DataFrame(acc_cf[3])\n",
    "# y_test = pd.DataFrame(acc_cf[4])\n",
    "plt_knn_alon(vals, new_df, x_train, y_train, sample_nf[0], corr_list, 'No Fault', sample_nf[3])"
   ]
  },
  {
   "cell_type": "markdown",
   "metadata": {},
   "source": [
    "# Condenser Fault:"
   ]
  },
  {
   "cell_type": "code",
   "execution_count": 18,
   "metadata": {
    "scrolled": true
   },
   "outputs": [],
   "source": [
    "sample_cf = sampling(new_df, 'Condenser Fault', 30, corr_list)"
   ]
  },
  {
   "cell_type": "markdown",
   "metadata": {},
   "source": [
    "## SVM:"
   ]
  },
  {
   "cell_type": "code",
   "execution_count": 19,
   "metadata": {},
   "outputs": [
    {
     "data": {
      "text/plain": [
       "0.9385964912280702"
      ]
     },
     "execution_count": 19,
     "metadata": {},
     "output_type": "execute_result"
    }
   ],
   "source": [
    "# def SVM_model(fault, new_df, x_train, y_train, inds):\n",
    "acc_cf = SVM_model('Condenser Fault', new_df, sample_cf[1], sample_cf[2], sample_cf[3], new_df_corr)\n",
    "acc_cf[0]"
   ]
  },
  {
   "cell_type": "markdown",
   "metadata": {},
   "source": [
    "## k-NN + SVM:"
   ]
  },
  {
   "cell_type": "code",
   "execution_count": 20,
   "metadata": {},
   "outputs": [
    {
     "name": "stdout",
     "output_type": "stream",
     "text": [
      "The highest accuracy is: 0.9391093607997576 using k =  5 neighbors for labeling.\n"
     ]
    },
    {
     "data": {
      "text/plain": [
       "[<matplotlib.lines.Line2D at 0x7f8c62586730>]"
      ]
     },
     "execution_count": 20,
     "metadata": {},
     "output_type": "execute_result"
    },
    {
     "data": {
      "image/png": "[encoded data removed]",
      "text/plain": [
       "<Figure size 432x288 with 1 Axes>"
      ]
     },
     "metadata": {
      "needs_background": "light"
     },
     "output_type": "display_data"
    }
   ],
   "source": [
    "# def plt_knn_alon(vals, new_df, x_train, y_train, sample, corr_list, fault):\n",
    "x_train = pd.DataFrame(acc_cf[1])\n",
    "y_train = pd.DataFrame(acc_cf[2])\n",
    "# x_test = pd.DataFrame(acc_cf[3])\n",
    "# y_test = pd.DataFrame(acc_cf[4])\n",
    "plt_knn_alon(vals, new_df, x_train, y_train, sample_cf[0], corr_list, 'Condenser Fault', sample_cf[3])"
   ]
  },
  {
   "cell_type": "markdown",
   "metadata": {},
   "source": [
    "# Undercharged B:"
   ]
  },
  {
   "cell_type": "code",
   "execution_count": 21,
   "metadata": {},
   "outputs": [],
   "source": [
    "sample_UB = sampling(new_df, 'Undercharged B', 30, corr_list)\n",
    "# [0] = sampled dataset; [1] = x_train; [2] = y_train, [3] = inds"
   ]
  },
  {
   "cell_type": "markdown",
   "metadata": {},
   "source": [
    "## SVM:"
   ]
  },
  {
   "cell_type": "code",
   "execution_count": 22,
   "metadata": {},
   "outputs": [
    {
     "data": {
      "text/plain": [
       "0.999395039322444"
      ]
     },
     "execution_count": 22,
     "metadata": {},
     "output_type": "execute_result"
    }
   ],
   "source": [
    "# def SVM_model(fault, new_df, x_train, y_train, inds):\n",
    "acc_UB = SVM_model('Undercharged B', new_df, sample_UB[1], sample_UB[2], sample_UB[3], new_df_corr)\n",
    "acc_UB[0]"
   ]
  },
  {
   "cell_type": "markdown",
   "metadata": {},
   "source": [
    "## k-NN + SVM:"
   ]
  },
  {
   "cell_type": "code",
   "execution_count": 23,
   "metadata": {},
   "outputs": [
    {
     "name": "stdout",
     "output_type": "stream",
     "text": [
      "The highest accuracy is: 0.9975764919721296 using k =  5 neighbors for labeling.\n"
     ]
    },
    {
     "data": {
      "text/plain": [
       "[<matplotlib.lines.Line2D at 0x7f8c628f3430>]"
      ]
     },
     "execution_count": 23,
     "metadata": {},
     "output_type": "execute_result"
    },
    {
     "data": {
      "image/png": "[encoded data removed]",
      "text/plain": [
       "<Figure size 432x288 with 1 Axes>"
      ]
     },
     "metadata": {
      "needs_background": "light"
     },
     "output_type": "display_data"
    }
   ],
   "source": [
    "# def plt_knn_alon(vals, new_df, x_train, y_train, sample, corr_list, fault):\n",
    "x_train = pd.DataFrame(acc_UB[1])\n",
    "y_train = pd.DataFrame(acc_UB[2])\n",
    "# x_test = pd.DataFrame(acc_cf[3])\n",
    "# y_test = pd.DataFrame(acc_cf[4])\n",
    "plt_knn_alon(vals, new_df, x_train, y_train, sample_UB[0], corr_list, 'Undercharged B', sample_UB[3])"
   ]
  },
  {
   "cell_type": "markdown",
   "metadata": {},
   "source": [
    "# Overcharged A:"
   ]
  },
  {
   "cell_type": "code",
   "execution_count": 24,
   "metadata": {},
   "outputs": [],
   "source": [
    "sample_OA = sampling(new_df, 'Overcharged A', 30, corr_list)\n",
    "# [0] = sampled dataset; [1] = x_train; [2] = y_train, [3] = inds"
   ]
  },
  {
   "cell_type": "markdown",
   "metadata": {},
   "source": [
    "## SVM:"
   ]
  },
  {
   "cell_type": "code",
   "execution_count": 25,
   "metadata": {},
   "outputs": [
    {
     "data": {
      "text/plain": [
       "0.9540229885057471"
      ]
     },
     "execution_count": 25,
     "metadata": {},
     "output_type": "execute_result"
    }
   ],
   "source": [
    "# def SVM_model(fault, new_df, x_train, y_train, inds):\n",
    "acc_OA = SVM_model('Overcharged A', new_df, sample_OA[1], sample_OA[2], sample_OA[3], new_df_corr)\n",
    "acc_OA[0]"
   ]
  },
  {
   "cell_type": "markdown",
   "metadata": {},
   "source": [
    "## k-NN + SVM:"
   ]
  },
  {
   "cell_type": "code",
   "execution_count": 26,
   "metadata": {},
   "outputs": [
    {
     "name": "stdout",
     "output_type": "stream",
     "text": [
      "The highest accuracy is: 0.9234275296262534 using k =  15 neighbors for labeling.\n"
     ]
    },
    {
     "data": {
      "text/plain": [
       "[<matplotlib.lines.Line2D at 0x7f8c627576a0>]"
      ]
     },
     "execution_count": 26,
     "metadata": {},
     "output_type": "execute_result"
    },
    {
     "data": {
      "image/png": "[encoded data removed]",
      "text/plain": [
       "<Figure size 432x288 with 1 Axes>"
      ]
     },
     "metadata": {
      "needs_background": "light"
     },
     "output_type": "display_data"
    }
   ],
   "source": [
    "# def plt_knn_alon(vals, new_df, x_train, y_train, sample, corr_list, fault):\n",
    "x_train = pd.DataFrame(acc_OA[1])\n",
    "y_train = pd.DataFrame(acc_OA[2])\n",
    "# x_test = pd.DataFrame(acc_cf[3])\n",
    "# y_test = pd.DataFrame(acc_cf[4])\n",
    "plt_knn_alon(vals, new_df, x_train, y_train, sample_OA[0], corr_list, 'Overcharged A', sample_OA[3])"
   ]
  }
 ],
 "metadata": {
  "kernelspec": {
   "display_name": "Python 3",
   "language": "python",
   "name": "python3"
  },
  "language_info": {
   "codemirror_mode": {
    "name": "ipython",
    "version": 3
   },
   "file_extension": ".py",
   "mimetype": "text/x-python",
   "name": "python",
   "nbconvert_exporter": "python",
   "pygments_lexer": "ipython3",
   "version": "3.8.3"
  }
 },
 "nbformat": 4,
 "nbformat_minor": 4
}
