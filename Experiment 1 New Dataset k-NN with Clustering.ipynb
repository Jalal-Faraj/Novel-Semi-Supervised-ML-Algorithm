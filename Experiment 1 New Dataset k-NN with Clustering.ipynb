{
 "cells": [
  {
   "cell_type": "markdown",
   "metadata": {},
   "source": [
    "## Experiment 1:\n",
    "Experiment 1: SVM using the 20 sampled data points without enhancements"
   ]
  },
  {
   "cell_type": "code",
   "execution_count": 1,
   "metadata": {},
   "outputs": [],
   "source": [
    "# All modules:\n",
    "import pandas as pd\n",
    "import numpy as np\n",
    "from sklearn.model_selection import train_test_split\n",
    "from sklearn import datasets\n",
    "from sklearn import svm\n",
    "from sklearn.model_selection import cross_val_score\n",
    "from sklearn.model_selection import KFold\n",
    "from numpy import mean\n",
    "from numpy import std\n",
    "from sklearn.datasets import make_classification\n",
    "from sklearn.metrics import confusion_matrix\n",
    "from sklearn import svm\n",
    "import seaborn as sns\n",
    "from sklearn.model_selection import cross_val_predict\n",
    "from sklearn.metrics import confusion_matrix\n",
    "import matplotlib.pyplot as plt\n",
    "from sklearn.metrics import classification_report\n",
    "from sklearn import preprocessing\n",
    "from sklearn.metrics import accuracy_score\n",
    "from scipy.spatial import distance\n",
    "import math\n",
    "import itertools\n",
    "import matplotlib.pyplot as plt\n",
    "from sklearn.model_selection import ShuffleSplit\n",
    "from sklearn.metrics import accuracy_score\n",
    "from sklearn import preprocessing\n",
    "from sklearn.cluster import DBSCAN\n",
    "from sklearn.neighbors import KNeighborsClassifier\n",
    "from sklearn_extra.cluster import KMedoids\n",
    "from sklearn.linear_model import LogisticRegression\n",
    "from sklearn.cluster import KMeans\n",
    "from sklearn.metrics import pairwise_distances_argmin_min\n",
    "from sklearn.cluster import AgglomerativeClustering\n",
    "import random"
   ]
  },
  {
   "cell_type": "markdown",
   "metadata": {},
   "source": [
    "## Functions:"
   ]
  },
  {
   "cell_type": "code",
   "execution_count": 2,
   "metadata": {},
   "outputs": [],
   "source": [
    "# Purpose of function is to classify only k nearest points to the training dataset:\n",
    "def knnclassify_nearestk2(dataset, training, labels, k, fault):\n",
    "    closest_k = []\n",
    "    for i in range(len(training)):\n",
    "        distances = []\n",
    "        for u in range(len(dataset)):\n",
    "            if u not in dataset:\n",
    "                distances.append(distance.cityblock(training.iloc[i,:],dataset.iloc[u,0:24]))\n",
    "            else:\n",
    "                continue\n",
    "#         distances = [f for f in distances if f != 0]\n",
    "        distances_ = sorted(range(len(distances)), key = lambda sub: distances[sub])[:k]\n",
    "        # Labeling\n",
    "        dataset.loc[distances_,fault] = labels.iloc[i][0]\n",
    "#                 distances_ = np.argpartition(distances,k)[:k]\n",
    "        closest_k.append(distances_)\n",
    "    # Try np.ravel, flattening\n",
    "    closest_k_p = list(itertools.chain.from_iterable(closest_k))\n",
    "    return dataset.iloc[closest_k_p,:]"
   ]
  },
  {
   "cell_type": "code",
   "execution_count": 4,
   "metadata": {},
   "outputs": [],
   "source": [
    "# Purpose of function is to classify only k nearest points to the training dataset:\n",
    "\n",
    "def knnclassify_nearestk(dataset, training, labels, k, clus_num, lab_clus_ind):\n",
    "    closest_k = []\n",
    "    for i in range(len(training)):\n",
    "        distances = []\n",
    "        for u in range(len(dataset)):\n",
    "            if u not in lab_clus_ind[clus_num]:\n",
    "                distances.append(distance.cityblock(training.iloc[i,:],dataset.iloc[u,:]))\n",
    "            else:\n",
    "                continue\n",
    "#         distances = [f for f in distances if f != 0]\n",
    "        distances_ = sorted(range(len(distances)), key = lambda sub: distances[sub])[:k+1]\n",
    "        # Labeling\n",
    "        dataset.iloc[distances_,0] = labels.iloc[i]\n",
    "#                 distances_ = np.argpartition(distances,k)[:k]\n",
    "        closest_k.append(distances_)\n",
    "    # Try np.ravel, flattening\n",
    "    closest_k_p = list(itertools.chain.from_iterable(closest_k))\n",
    "    return dataset.iloc[closest_k_p,:]"
   ]
  },
  {
   "cell_type": "code",
   "execution_count": 5,
   "metadata": {},
   "outputs": [],
   "source": [
    "def sampling(new_df, fault, num_sam, corr_list):\n",
    "#     sample = new_df.groupby(fault).apply(lambda x: x.sample(num_sam))\n",
    "    sample = new_df.sample(n = num_sam)\n",
    "    x_train = sample.drop(['No Fault', 'Evaporator Fault', 'Condenser Fault' ,'Undercharged B', 'Overcharged A'], axis = 1)\n",
    "    x_train = x_train.loc[:,corr_list]\n",
    "    y_train = sample.loc[:,['No Fault', 'Evaporator Fault', 'Condenser Fault' ,'Undercharged B', 'Overcharged A']]\n",
    "    y_train = y_train.loc[:,~y_train.columns.duplicated()]\n",
    "    inds = [r[1] for r in sample.index]\n",
    "    return sample, x_train, y_train, inds"
   ]
  },
  {
   "cell_type": "code",
   "execution_count": 6,
   "metadata": {},
   "outputs": [],
   "source": [
    "# clusters_ind[0]\n",
    "# com_clus_inds = list(itertools.chain.from_iterable(clusters_ind))\n",
    "# X_nso.iloc[com_clus_inds,:]\n",
    "def knn_by_cluster(cluster_data, lab_clus_ind, k):\n",
    "    train_cluster = []\n",
    "    for i in range(len(cluster_data)):\n",
    "        train_cluster.append(knnclassify_nearestk(cluster_data[i], X_nso.iloc[lab_clus_ind[i],:], y_nso[lab_clus_ind[i]], k, i, lab_clus_ind))\n",
    "    train_cluster = pd.concat(train_cluster, axis = 0)\n",
    "    return train_cluster"
   ]
  },
  {
   "cell_type": "code",
   "execution_count": 7,
   "metadata": {},
   "outputs": [],
   "source": [
    "def SVM_model(fault, new_df, x_train, y_train, inds, df_corr_list):\n",
    "    \n",
    "    x_test = df_corr_list.iloc[:,0:24]\n",
    "    y_test = new_df.loc[:,['No Fault', 'Evaporator Fault', 'Condenser Fault' ,'Undercharged B', 'Overcharged A']]\n",
    "\n",
    "    x_test = x_test.drop(inds, axis= 0)\n",
    "    y_test = y_test.drop(inds, axis= 0)\n",
    "\n",
    "    y_train = y_train.loc[:,fault]\n",
    "    y_test = y_test.loc[:,fault]\n",
    "\n",
    "    model = svm.SVC(kernel='linear', C = 1.22, class_weight = 'balanced')# Linear Kernel\n",
    "    # evaluate model and report performance\n",
    "    # scaler = preprocessing.StandardScaler()\n",
    "    # max_abs_scaler = preprocessing.MaxAbsScaler()\n",
    "    quantile_transformer = preprocessing.QuantileTransformer(n_quantiles = x_train.shape[0], random_state=0)\n",
    "    # normalizer = preprocessing.Normalizer()\n",
    "    # pt = preprocessing.PowerTransformer('yeo-johnson', standardize=False)\n",
    "\n",
    "    x_train = quantile_transformer.fit_transform(x_train)\n",
    "    x_test = quantile_transformer.transform(x_test)\n",
    "    \n",
    "    model.fit(x_train, y_train)\n",
    "    pred_svm = model.predict(x_test)\n",
    "    \n",
    "    acc = accuracy_score(y_test, pred_svm)\n",
    "    \n",
    "    return acc, x_train, y_train, x_test, y_test\n",
    "    "
   ]
  },
  {
   "cell_type": "code",
   "execution_count": 8,
   "metadata": {},
   "outputs": [],
   "source": [
    "vals = [1,25,50,75,100]\n",
    "def plt_knn_alon(vals, new_df, x_train, y_train, sample, corr_list, fault, inds):\n",
    "    acc = []\n",
    "    train = []\n",
    "    for i in vals:\n",
    "        new_training3 = knnclassify_nearestk2(new_df.loc[:,corr_list], x_train, y_train, i, fault)\n",
    "        new_training_2 = pd.concat([sample, new_training3], axis = 0)\n",
    "        new_train3 = list(set(new_training3.index)) + inds \n",
    "        new_df_corr = new_df.loc[:,corr_list[0:24]]\n",
    "        x_trainrj3 = new_df_corr.iloc[new_train3,:]\n",
    "        # x_trainrj3 = x_trainrj3.loc[:,corr_list[0:24]]\n",
    "        y_trainrj3 = new_df.loc[new_train3, fault]\n",
    "        x_testrj3 = new_df_corr.drop(new_df_corr.iloc[new_train3,:].index)\n",
    "        # x_testrj3 = x_testrj3.loc[:,corr_list[0:24]]\n",
    "        y_testrj3 = new_df.drop(new_df.loc[new_train3,fault].index)\n",
    "        y_testrj3 = y_testrj3.loc[:,fault]\n",
    "        model = svm.SVC(kernel='poly', C = 1.22, degree = 5)# Linear Kernel\n",
    "        # evaluate model and report performance\n",
    "        # scaler = preprocessing.StandardScaler()\n",
    "        # max_abs_scaler = preprocessing.MaxAbsScaler()\n",
    "        quantile_transformer = preprocessing.QuantileTransformer(n_quantiles = x_trainrj3.shape[0], random_state=0)\n",
    "        # # normalizer = preprocessing.Normalizer()\n",
    "        # # pt = preprocessing.PowerTransformer('yeo-johnson', standardize=False)\n",
    "        x_trainrj3 = quantile_transformer.fit_transform(x_trainrj3)\n",
    "        x_testrj3 = quantile_transformer.transform(x_testrj3)\n",
    "        model.fit(x_trainrj3, y_trainrj3)\n",
    "        pred_svmrj3 = model.predict(x_testrj3)\n",
    "\n",
    "        acc.append(accuracy_score(pred_svmrj3, y_testrj3))\n",
    "        train.append(len(new_training_2))\n",
    "        \n",
    "    plot1 = plt.plot(vals, acc,'bo')\n",
    "    plt.plot(vals, acc, 'r')\n",
    "    plt.xlabel('# of K')\n",
    "    plt.ylabel('Accuracy (%)')\n",
    "    plt.title('# of K vs. Accuracy (k-NN)')\n",
    "#         plot2 = plt.plot(train, acc,'ko')\n",
    "#         plt.plot(train, acc, 'g')\n",
    "#         plt.xlabel('Training set size')\n",
    "#         plt.ylabel('Accuracy (%)')\n",
    "#         plt.title('Training set size vs. Accuracy')\n",
    "    return plot1"
   ]
  },
  {
   "cell_type": "markdown",
   "metadata": {},
   "source": [
    "# Binary Classification:"
   ]
  },
  {
   "cell_type": "code",
   "execution_count": 10,
   "metadata": {},
   "outputs": [],
   "source": [
    "new_df = pd.read_csv('New Dataset with one-hot.csv').drop('Unnamed: 0', axis = 1)\n",
    "# alldays_labels_\n",
    "# new_df.loc[:,'Evaporator Fault'].value_counts()\n",
    "import pickle\n",
    "with open('column_names.pkl', 'rb') as f:\n",
    "   unpickler = pickle.Unpickler(f)\n",
    "   corr_list = unpickler.load()\n",
    "# corr_list = corr_list + ['No Fault', 'Evaporator Fault', 'Condenser Fault', 'Condenser Fault' ,'Undercharged B', 'Overcharged A', 'System Off']\n",
    "new_df\n",
    "new_df_corr = new_df.loc[:,corr_list]"
   ]
  },
  {
   "cell_type": "code",
   "execution_count": 11,
   "metadata": {},
   "outputs": [],
   "source": [
    "new_df = new_df.drop('System Off', axis = 1)"
   ]
  },
  {
   "cell_type": "code",
   "execution_count": 16,
   "metadata": {},
   "outputs": [
    {
     "data": {
      "text/plain": [
       "0.0    3163\n",
       "1.0     173\n",
       "Name: No Fault, dtype: int64"
      ]
     },
     "execution_count": 16,
     "metadata": {},
     "output_type": "execute_result"
    }
   ],
   "source": [
    "new_df.loc[:,'No Fault'].value_counts()"
   ]
  },
  {
   "cell_type": "code",
   "execution_count": 17,
   "metadata": {},
   "outputs": [
    {
     "data": {
      "text/plain": [
       "0.0    2725\n",
       "1.0     611\n",
       "Name: Evaporator Fault, dtype: int64"
      ]
     },
     "execution_count": 17,
     "metadata": {},
     "output_type": "execute_result"
    }
   ],
   "source": [
    "new_df.loc[:,'Evaporator Fault'].value_counts()"
   ]
  },
  {
   "cell_type": "code",
   "execution_count": 19,
   "metadata": {},
   "outputs": [
    {
     "data": {
      "text/plain": [
       "1.0    2022\n",
       "0.0    1314\n",
       "Name: Condenser Fault, dtype: int64"
      ]
     },
     "execution_count": 19,
     "metadata": {},
     "output_type": "execute_result"
    }
   ],
   "source": [
    "new_df.loc[:,'Condenser Fault'].value_counts()"
   ]
  },
  {
   "cell_type": "code",
   "execution_count": 20,
   "metadata": {},
   "outputs": [
    {
     "data": {
      "text/plain": [
       "0.0    1750\n",
       "1.0    1586\n",
       "Name: Undercharged B, dtype: int64"
      ]
     },
     "execution_count": 20,
     "metadata": {},
     "output_type": "execute_result"
    }
   ],
   "source": [
    "new_df.loc[:,'Undercharged B'].value_counts()"
   ]
  },
  {
   "cell_type": "code",
   "execution_count": 21,
   "metadata": {},
   "outputs": [
    {
     "data": {
      "text/plain": [
       "0.0    2296\n",
       "1.0    1040\n",
       "Name: Overcharged A, dtype: int64"
      ]
     },
     "execution_count": 21,
     "metadata": {},
     "output_type": "execute_result"
    }
   ],
   "source": [
    "new_df.loc[:,'Overcharged A'].value_counts()"
   ]
  },
  {
   "cell_type": "markdown",
   "metadata": {},
   "source": [
    "# k-Medoids Clustering:"
   ]
  },
  {
   "cell_type": "code",
   "execution_count": 71,
   "metadata": {},
   "outputs": [
    {
     "name": "stdout",
     "output_type": "stream",
     "text": [
      "All Clusters are Sampled\n"
     ]
    },
    {
     "name": "stderr",
     "output_type": "stream",
     "text": [
      "/Users/jalalfaraj/opt/anaconda3/lib/python3.8/site-packages/sklearn_extra/cluster/_k_medoids.py:275: UserWarning: Cluster 1 is empty! self.labels_[self.medoid_indices_[1]] may not be labeled with its corresponding cluster (1).\n",
      "  warnings.warn(\n",
      "/Users/jalalfaraj/opt/anaconda3/lib/python3.8/site-packages/sklearn_extra/cluster/_k_medoids.py:275: UserWarning: Cluster 3 is empty! self.labels_[self.medoid_indices_[3]] may not be labeled with its corresponding cluster (3).\n",
      "  warnings.warn(\n"
     ]
    }
   ],
   "source": [
    "sample_data = new_df.sample(n = math.floor(new_df.shape[0]/110))#X_nso.shape[0]/150)\n",
    "labels2 = sample_data.loc[:,['No Fault', 'Evaporator Fault', 'Condenser Fault' ,'Undercharged B', 'Overcharged A']]\n",
    "data2 = sample_data.drop(['No Fault', 'Evaporator Fault', 'Condenser Fault' ,'Undercharged B', 'Overcharged A'], axis = 1)\n",
    "# organize labeled data by cluster:\n",
    "lab_clus_ind2 = []\n",
    "act_labels2 = set(labels2)\n",
    "for i in act_labels2:\n",
    "    cond = (labels2 == 1)\n",
    "    lab_clus_ind2.append(np.where(cond)[0])\n",
    "# clus_ind = list(itertools.chain.from_iterable(clus_ind))\n",
    "len(lab_clus_ind2)\n",
    "lab_clus_ind2\n",
    "kmediods = KMedoids(5, 'manhattan', init = 'heuristic').fit(new_df.iloc[:,0:24])\n",
    "# seperating cluster to apply KNN\n",
    "clusters_ind2 = []\n",
    "for i in range(len(set(kmediods.labels_))):\n",
    "    cond = (kmediods.labels_ == i)\n",
    "    clusters_ind2.append(np.where(cond)[0])\n",
    "if len(lab_clus_ind2) == 5:\n",
    "    print(\"All Clusters are Sampled\")\n",
    "else:\n",
    "    print(\"Not All Clusters are Sampled\")"
   ]
  },
  {
   "cell_type": "code",
   "execution_count": 94,
   "metadata": {},
   "outputs": [
    {
     "data": {
      "text/plain": [
       "1906"
      ]
     },
     "execution_count": 94,
     "metadata": {},
     "output_type": "execute_result"
    }
   ],
   "source": [
    "data2.index[0]"
   ]
  },
  {
   "cell_type": "code",
   "execution_count": 100,
   "metadata": {},
   "outputs": [],
   "source": [
    "lab_clus_ind2 = []\n",
    "for i in range(len(data2)):\n",
    "    ind = data2.index[i]\n",
    "    for g in range(len(clusters_ind2)):\n",
    "        if ind in clusters_ind2[g]:\n",
    "            lab_clus_ind2.append(g)  "
   ]
  },
  {
   "cell_type": "markdown",
   "metadata": {},
   "source": [
    "# Evaporator Fault:"
   ]
  },
  {
   "cell_type": "code",
   "execution_count": 27,
   "metadata": {},
   "outputs": [],
   "source": [
    "sample_ef = sampling(new_df, 'Evaporator Fault', 5, corr_list)"
   ]
  },
  {
   "cell_type": "markdown",
   "metadata": {},
   "source": [
    "## SVM:"
   ]
  },
  {
   "cell_type": "code",
   "execution_count": 28,
   "metadata": {},
   "outputs": [
    {
     "data": {
      "text/plain": [
       "0.9675285628382442"
      ]
     },
     "execution_count": 28,
     "metadata": {},
     "output_type": "execute_result"
    }
   ],
   "source": [
    "acc_ef = SVM_model('Evaporator Fault', new_df, sample_ef[1], sample_ef[2], sample_ef[3], new_df_corr)\n",
    "acc_ef[0]"
   ]
  },
  {
   "cell_type": "markdown",
   "metadata": {},
   "source": [
    "## k-NN + SVM:"
   ]
  },
  {
   "cell_type": "code",
   "execution_count": 29,
   "metadata": {},
   "outputs": [
    {
     "data": {
      "text/plain": [
       "[<matplotlib.lines.Line2D at 0x7f9396f67e50>]"
      ]
     },
     "execution_count": 29,
     "metadata": {},
     "output_type": "execute_result"
    },
    {
     "data": {
      "image/png": "[encoded data removed]",
      "text/plain": [
       "<Figure size 432x288 with 1 Axes>"
      ]
     },
     "metadata": {
      "needs_background": "light"
     },
     "output_type": "display_data"
    }
   ],
   "source": [
    "# def plt_knn_alon(vals, new_df, x_train, y_train, sample, corr_list, fault):\n",
    "x_train = pd.DataFrame(acc_ef[1])\n",
    "y_train = pd.DataFrame(acc_ef[2])\n",
    "# x_test = pd.DataFrame(acc_cf[3])\n",
    "# y_test = pd.DataFrame(acc_cf[4])\n",
    "plt_knn_alon(vals, new_df, x_train, y_train, sample_ef[0], corr_list, 'Evaporator Fault', sample_ef[3])"
   ]
  },
  {
   "cell_type": "markdown",
   "metadata": {},
   "source": [
    "# No Fault:"
   ]
  },
  {
   "cell_type": "code",
   "execution_count": 30,
   "metadata": {},
   "outputs": [],
   "source": [
    "sample_nf = sampling(new_df, 'No Fault', 5, corr_list)"
   ]
  },
  {
   "cell_type": "markdown",
   "metadata": {},
   "source": [
    "## SVM:"
   ]
  },
  {
   "cell_type": "code",
   "execution_count": 31,
   "metadata": {},
   "outputs": [
    {
     "data": {
      "text/plain": [
       "0.7570655441972339"
      ]
     },
     "execution_count": 31,
     "metadata": {},
     "output_type": "execute_result"
    }
   ],
   "source": [
    "acc_nf = SVM_model('No Fault', new_df, sample_nf[1], sample_nf[2], sample_nf[3], new_df_corr)\n",
    "acc_nf[0]"
   ]
  },
  {
   "cell_type": "markdown",
   "metadata": {},
   "source": [
    "## k-NN +SVM:"
   ]
  },
  {
   "cell_type": "code",
   "execution_count": 32,
   "metadata": {},
   "outputs": [
    {
     "data": {
      "text/plain": [
       "[<matplotlib.lines.Line2D at 0x7f9398015d30>]"
      ]
     },
     "execution_count": 32,
     "metadata": {},
     "output_type": "execute_result"
    },
    {
     "data": {
      "image/png": "[encoded data removed]",
      "text/plain": [
       "<Figure size 432x288 with 1 Axes>"
      ]
     },
     "metadata": {
      "needs_background": "light"
     },
     "output_type": "display_data"
    }
   ],
   "source": [
    "# def plt_knn_alon(vals, new_df, x_train, y_train, sample, corr_list, fault):\n",
    "x_train = pd.DataFrame(acc_nf[1])\n",
    "y_train = pd.DataFrame(acc_nf[2])\n",
    "# x_test = pd.DataFrame(acc_cf[3])\n",
    "# y_test = pd.DataFrame(acc_cf[4])\n",
    "plt_knn_alon(vals, new_df, x_train, y_train, sample_nf[0], corr_list, 'No Fault', sample_nf[3])"
   ]
  },
  {
   "cell_type": "markdown",
   "metadata": {},
   "source": [
    "# Condenser Fault:"
   ]
  },
  {
   "cell_type": "code",
   "execution_count": 33,
   "metadata": {
    "scrolled": true
   },
   "outputs": [],
   "source": [
    "sample_cf = sampling(new_df, 'Condenser Fault', 5, corr_list)"
   ]
  },
  {
   "cell_type": "markdown",
   "metadata": {},
   "source": [
    "## SVM:"
   ]
  },
  {
   "cell_type": "code",
   "execution_count": 34,
   "metadata": {},
   "outputs": [
    {
     "data": {
      "text/plain": [
       "0.9263379434756465"
      ]
     },
     "execution_count": 34,
     "metadata": {},
     "output_type": "execute_result"
    }
   ],
   "source": [
    "# def SVM_model(fault, new_df, x_train, y_train, inds):\n",
    "acc_cf = SVM_model('Condenser Fault', new_df, sample_cf[1], sample_cf[2], sample_cf[3], new_df_corr)\n",
    "acc_cf[0]"
   ]
  },
  {
   "cell_type": "markdown",
   "metadata": {},
   "source": [
    "## k-NN + SVM:"
   ]
  },
  {
   "cell_type": "code",
   "execution_count": 35,
   "metadata": {},
   "outputs": [
    {
     "data": {
      "text/plain": [
       "[<matplotlib.lines.Line2D at 0x7f939812ebb0>]"
      ]
     },
     "execution_count": 35,
     "metadata": {},
     "output_type": "execute_result"
    },
    {
     "data": {
      "image/png": "[encoded data removed]",
      "text/plain": [
       "<Figure size 432x288 with 1 Axes>"
      ]
     },
     "metadata": {
      "needs_background": "light"
     },
     "output_type": "display_data"
    }
   ],
   "source": [
    "# def plt_knn_alon(vals, new_df, x_train, y_train, sample, corr_list, fault):\n",
    "x_train = pd.DataFrame(acc_cf[1])\n",
    "y_train = pd.DataFrame(acc_cf[2])\n",
    "# x_test = pd.DataFrame(acc_cf[3])\n",
    "# y_test = pd.DataFrame(acc_cf[4])\n",
    "plt_knn_alon(vals, new_df, x_train, y_train, sample_cf[0], corr_list, 'Condenser Fault', sample_cf[3])"
   ]
  },
  {
   "cell_type": "markdown",
   "metadata": {},
   "source": [
    "# Undercharged B:"
   ]
  },
  {
   "cell_type": "code",
   "execution_count": 36,
   "metadata": {},
   "outputs": [],
   "source": [
    "sample_UB = sampling(new_df, 'Undercharged B', 5, corr_list)\n",
    "# [0] = sampled dataset; [1] = x_train; [2] = y_train, [3] = inds"
   ]
  },
  {
   "cell_type": "markdown",
   "metadata": {},
   "source": [
    "## SVM:"
   ]
  },
  {
   "cell_type": "code",
   "execution_count": 37,
   "metadata": {},
   "outputs": [
    {
     "data": {
      "text/plain": [
       "0.9031870114251352"
      ]
     },
     "execution_count": 37,
     "metadata": {},
     "output_type": "execute_result"
    }
   ],
   "source": [
    "# def SVM_model(fault, new_df, x_train, y_train, inds):\n",
    "acc_UB = SVM_model('Undercharged B', new_df, sample_UB[1], sample_UB[2], sample_UB[3], new_df_corr)\n",
    "acc_UB[0]"
   ]
  },
  {
   "cell_type": "markdown",
   "metadata": {},
   "source": [
    "## k-NN + SVM:"
   ]
  },
  {
   "cell_type": "code",
   "execution_count": 38,
   "metadata": {},
   "outputs": [
    {
     "data": {
      "text/plain": [
       "[<matplotlib.lines.Line2D at 0x7f9398205be0>]"
      ]
     },
     "execution_count": 38,
     "metadata": {},
     "output_type": "execute_result"
    },
    {
     "data": {
      "image/png": "[encoded data removed]",
      "text/plain": [
       "<Figure size 432x288 with 1 Axes>"
      ]
     },
     "metadata": {
      "needs_background": "light"
     },
     "output_type": "display_data"
    }
   ],
   "source": [
    "# def plt_knn_alon(vals, new_df, x_train, y_train, sample, corr_list, fault):\n",
    "x_train = pd.DataFrame(acc_UB[1])\n",
    "y_train = pd.DataFrame(acc_UB[2])\n",
    "# x_test = pd.DataFrame(acc_cf[3])\n",
    "# y_test = pd.DataFrame(acc_cf[4])\n",
    "plt_knn_alon(vals, new_df, x_train, y_train, sample_UB[0], corr_list, 'Undercharged B', sample_UB[3])"
   ]
  },
  {
   "cell_type": "markdown",
   "metadata": {},
   "source": [
    "# Overcharged A:"
   ]
  },
  {
   "cell_type": "code",
   "execution_count": 39,
   "metadata": {},
   "outputs": [],
   "source": [
    "sample_OA = sampling(new_df, 'Overcharged A', 5, corr_list)\n",
    "# [0] = sampled dataset; [1] = x_train; [2] = y_train, [3] = inds"
   ]
  },
  {
   "cell_type": "markdown",
   "metadata": {},
   "source": [
    "## SVM:"
   ]
  },
  {
   "cell_type": "code",
   "execution_count": 40,
   "metadata": {},
   "outputs": [
    {
     "data": {
      "text/plain": [
       "0.9512928442573662"
      ]
     },
     "execution_count": 40,
     "metadata": {},
     "output_type": "execute_result"
    }
   ],
   "source": [
    "# def SVM_model(fault, new_df, x_train, y_train, inds):\n",
    "acc_OA = SVM_model('Overcharged A', new_df, sample_OA[1], sample_OA[2], sample_OA[3], new_df_corr)\n",
    "acc_OA[0]"
   ]
  },
  {
   "cell_type": "markdown",
   "metadata": {},
   "source": [
    "## k-NN + SVM:"
   ]
  },
  {
   "cell_type": "code",
   "execution_count": 41,
   "metadata": {},
   "outputs": [
    {
     "data": {
      "text/plain": [
       "[<matplotlib.lines.Line2D at 0x7f9398387f40>]"
      ]
     },
     "execution_count": 41,
     "metadata": {},
     "output_type": "execute_result"
    },
    {
     "data": {
      "image/png": "[encoded data removed]",
      "text/plain": [
       "<Figure size 432x288 with 1 Axes>"
      ]
     },
     "metadata": {
      "needs_background": "light"
     },
     "output_type": "display_data"
    }
   ],
   "source": [
    "# def plt_knn_alon(vals, new_df, x_train, y_train, sample, corr_list, fault):\n",
    "x_train = pd.DataFrame(acc_OA[1])\n",
    "y_train = pd.DataFrame(acc_OA[2])\n",
    "# x_test = pd.DataFrame(acc_cf[3])\n",
    "# y_test = pd.DataFrame(acc_cf[4])\n",
    "plt_knn_alon(vals, new_df, x_train, y_train, sample_OA[0], corr_list, 'Overcharged A', sample_OA[3])"
   ]
  }
 ],
 "metadata": {
  "kernelspec": {
   "display_name": "Python 3",
   "language": "python",
   "name": "python3"
  },
  "language_info": {
   "codemirror_mode": {
    "name": "ipython",
    "version": 3
   },
   "file_extension": ".py",
   "mimetype": "text/x-python",
   "name": "python",
   "nbconvert_exporter": "python",
   "pygments_lexer": "ipython3",
   "version": "3.8.3"
  }
 },
 "nbformat": 4,
 "nbformat_minor": 4
}
