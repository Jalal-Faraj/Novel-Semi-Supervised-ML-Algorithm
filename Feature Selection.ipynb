{
 "cells": [
  {
   "cell_type": "markdown",
   "metadata": {},
   "source": [
    "# Univariate Feature Selection"
   ]
  },
  {
   "cell_type": "code",
   "execution_count": 1,
   "metadata": {},
   "outputs": [
    {
     "data": {
      "text/plain": [
       "(2873, 32)"
      ]
     },
     "execution_count": 1,
     "metadata": {},
     "output_type": "execute_result"
    }
   ],
   "source": [
    "import numpy as np\n",
    "from sklearn.model_selection import train_test_split\n",
    "from sklearn import datasets\n",
    "from sklearn import svm\n",
    "from sklearn.model_selection import cross_val_score\n",
    "from sklearn.model_selection import KFold\n",
    "from numpy import mean\n",
    "from numpy import std\n",
    "from sklearn.feature_selection import SelectKBest\n",
    "from sklearn.feature_selection import chi2\n",
    "import pandas as pd\n",
    "df = pd.read_csv('Before FS file.csv').drop('Unnamed: 0', axis = 1)\n",
    "skipinitialspace=True\n",
    "# Selecting the first 32 columns of the data to be features\n",
    "X = df.iloc[:,0:32]\n",
    "# Selecting the column with the name LABELS to represent the features\n",
    "y = df['LABELS']\n",
    "X.shape\n",
    "# Finding the best 27 featuers within the data"
   ]
  },
  {
   "cell_type": "markdown",
   "metadata": {},
   "source": [
    "# Using Pearson Correlation, and trying top n correlated features in SVM:"
   ]
  },
  {
   "cell_type": "code",
   "execution_count": 2,
   "metadata": {},
   "outputs": [],
   "source": [
    "# Combining colums 4:32 with column 37 (containing the labels), to use pearson correlation between the lables \n",
    "# and the rest of the featues.\n",
    "# We will only use 90% of the data which is the training data, for feature selection to determine the optimal\n",
    "# of features.\n",
    "# Shuffling was done to imitate cross fold validation scheme (it shuffles and splits into test/training)\n",
    "# df1 = df.iloc[:,:32].join(df.loc[:,'LABELS'])\n",
    "df2 = df[0:2586]\n",
    "# randomizing features and returning 80% of them (training set size)\n",
    "# Appling Pearson Correlation\n",
    "corr_matrix = df2.apply(lambda x : pd.factorize(x)[0]).corr(method='pearson', min_periods=1)\n",
    "# Sorting highest correlated features\n",
    "corr_matrix['LABELS'][0:2586].sort_values(ascending=False)\n",
    "# Putting the Correlated features and their pearson correlation in a dictionary \n",
    "dic = corr_matrix['LABELS'][0:2586].sort_values(ascending=False).to_dict()\n",
    "corr_list = list(dic.items())"
   ]
  },
  {
   "cell_type": "code",
   "execution_count": 3,
   "metadata": {},
   "outputs": [],
   "source": [
    "# Reversing the order of the correlated features from highest to lowest value\n",
    "corr_list.sort(key = lambda x : x[1], reverse = True)"
   ]
  },
  {
   "cell_type": "code",
   "execution_count": 4,
   "metadata": {},
   "outputs": [
    {
     "data": {
      "text/plain": [
       "[('LABELS', 1.0),\n",
       " ('SUCT1', 0.08004260843204708),\n",
       " ('EVAT', 0.0600678941518058),\n",
       " ('DIST1', 0.018378879420725334),\n",
       " ('SURH', 0.015910315660396704),\n",
       " ('RERH', 0.013932004450557376),\n",
       " ('ECT', 0.013890408340240473),\n",
       " ('ECT.Humidity', 0.013760361820781195),\n",
       " ('ECRH', 0.013573348611116146),\n",
       " ('SUAVG.Humidity', 0.013573348611116146),\n",
       " ('ORH', 0.013573348611116146),\n",
       " ('OT', 0.013573348611116146),\n",
       " ('IT', 0.013141377566961283),\n",
       " ('SUCP2', 0.013054324015699654),\n",
       " ('RUAVG.Humidity', 0.012987634880344096),\n",
       " ('RET', 0.012969747110828414),\n",
       " ('SUCP1', 0.012349351553054161),\n",
       " ('SUT', 0.011890163210849772),\n",
       " ('DISP2', 0.01147211225235575),\n",
       " ('DISP1', 0.009503042320288426),\n",
       " ('FLW', -0.0007278027156180084),\n",
       " ('SUCT2', -0.003346137454932927),\n",
       " ('CONT', -0.004647344797409041),\n",
       " ('EXT1', -0.021361403902296915),\n",
       " ('DIST2', -0.032627983089972896),\n",
       " ('EXT2', -0.038808196852072735),\n",
       " ('FAN', -0.04502206259957563),\n",
       " ('SUAVG', -0.06697627936534291),\n",
       " ('RUAVG', -0.12184514000710306),\n",
       " ('COMP.A', -0.3666875560936732),\n",
       " ('MAIN', -0.4126883787479898),\n",
       " ('FI.REF.A', -0.4165770737640175),\n",
       " ('COMP.B', -0.6734741950205277)]"
      ]
     },
     "execution_count": 4,
     "metadata": {},
     "output_type": "execute_result"
    }
   ],
   "source": [
    "corr_list"
   ]
  },
  {
   "cell_type": "code",
   "execution_count": 5,
   "metadata": {},
   "outputs": [
    {
     "data": {
      "text/plain": [
       "24"
      ]
     },
     "execution_count": 5,
     "metadata": {},
     "output_type": "execute_result"
    }
   ],
   "source": [
    "# Manually use the best 27 correlated features and apply to SVM to see if the accuracy matches 98.4%\n",
    "column_names = [i[0] for i in corr_list[1:25] ]\n",
    "len(column_names)"
   ]
  },
  {
   "cell_type": "code",
   "execution_count": 6,
   "metadata": {},
   "outputs": [
    {
     "data": {
      "text/plain": [
       "['SUCT1',\n",
       " 'EVAT',\n",
       " 'DIST1',\n",
       " 'SURH',\n",
       " 'RERH',\n",
       " 'ECT',\n",
       " 'ECT.Humidity',\n",
       " 'ECRH',\n",
       " 'SUAVG.Humidity',\n",
       " 'ORH',\n",
       " 'OT',\n",
       " 'IT',\n",
       " 'SUCP2',\n",
       " 'RUAVG.Humidity',\n",
       " 'RET',\n",
       " 'SUCP1',\n",
       " 'SUT',\n",
       " 'DISP2',\n",
       " 'DISP1',\n",
       " 'FLW',\n",
       " 'SUCT2',\n",
       " 'CONT',\n",
       " 'EXT1',\n",
       " 'DIST2']"
      ]
     },
     "execution_count": 6,
     "metadata": {},
     "output_type": "execute_result"
    }
   ],
   "source": [
    "column_names"
   ]
  },
  {
   "cell_type": "code",
   "execution_count": 7,
   "metadata": {},
   "outputs": [],
   "source": [
    "# Make a susbset of features only using the top 24 correlated features with the output\n",
    "df_sub = df.loc[:,column_names]"
   ]
  },
  {
   "cell_type": "code",
   "execution_count": 8,
   "metadata": {},
   "outputs": [
    {
     "data": {
      "text/plain": [
       "(2873, 24)"
      ]
     },
     "execution_count": 8,
     "metadata": {},
     "output_type": "execute_result"
    }
   ],
   "source": [
    "df = pd.read_excel('Final(With Label) Data.xlsx')\n",
    "skipinitialspace=True\n",
    "X = df_sub\n",
    "y = df['LABELS']\n",
    "X.shape\n",
    "#X_new = SelectKBest(chi2, k=24).fit_transform(X, y)\n",
    "#X_new.shape "
   ]
  },
  {
   "cell_type": "code",
   "execution_count": null,
   "metadata": {},
   "outputs": [],
   "source": [
    "cv = KFold(n_splits = 10, random_state=1, shuffle=True)\n",
    "model = svm.SVC(kernel='linear')\n",
    "scores = cross_val_score(model, X, y, scoring='accuracy', cv=cv, n_jobs=-1)\n",
    "print('Accuracy: %.3f (%.3f)' % (mean(scores), std(scores)))"
   ]
  },
  {
   "cell_type": "code",
   "execution_count": null,
   "metadata": {},
   "outputs": [],
   "source": [
    "# Top 24 features --> 98.3% accuracy"
   ]
  }
 ],
 "metadata": {
  "kernelspec": {
   "display_name": "Python 3",
   "language": "python",
   "name": "python3"
  },
  "language_info": {
   "codemirror_mode": {
    "name": "ipython",
    "version": 3
   },
   "file_extension": ".py",
   "mimetype": "text/x-python",
   "name": "python",
   "nbconvert_exporter": "python",
   "pygments_lexer": "ipython3",
   "version": "3.8.3"
  }
 },
 "nbformat": 4,
 "nbformat_minor": 4
}
